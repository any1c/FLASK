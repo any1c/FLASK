{
 "cells": [
  {
   "cell_type": "markdown",
   "id": "f5f2c3e2-7d13-4064-80ec-4e20e2fecaf4",
   "metadata": {},
   "source": [
    "## Flask Assignment"
   ]
  },
  {
   "cell_type": "code",
   "execution_count": null,
   "id": "6fdb0362-091c-4c5d-a62d-4b6421113e92",
   "metadata": {},
   "outputs": [],
   "source": []
  },
  {
   "cell_type": "code",
   "execution_count": null,
   "id": "e7acfee0-f33d-4a08-a61f-96bb7aedfd1c",
   "metadata": {},
   "outputs": [],
   "source": [
    "\"\"\"\n",
    "Q1.What is Flask Framework? What are the advantages of Flask Framework?\n",
    "\"\"\""
   ]
  },
  {
   "cell_type": "code",
   "execution_count": null,
   "id": "ec0a8f10-e792-4c25-bbf6-414bced8ba90",
   "metadata": {},
   "outputs": [],
   "source": [
    "\"\"\"\n",
    "Flask is a lightweight and flexible webframe work for python used to create and design web application,\n",
    "quickly, also it it offers simple yet powerful API for web developement.\n",
    "\n",
    "Advantage of Flask Framework:\n",
    "\n",
    "1)Easy to use: It is easy to use and have lightframe\n",
    "2)Flexible: flask is used to design to flexible you can custom it accordingly, ex: @app.route\n",
    "3)Scalable: flask is used to create scalable web application\n",
    "4)Active Community: Flask have large community of people so, one can get support anytime."
   ]
  },
  {
   "cell_type": "code",
   "execution_count": null,
   "id": "aa42660e-2686-4fc7-9999-895c6f2160c2",
   "metadata": {},
   "outputs": [],
   "source": []
  },
  {
   "cell_type": "code",
   "execution_count": null,
   "id": "2ebe8c38-72fe-47a0-b591-10f8480d6e59",
   "metadata": {},
   "outputs": [],
   "source": [
    "\"\"\"\n",
    "Q2. Create a simple Flask application to display ‘Hello World!!’. Attach the screenshot of the output in\n",
    "Jupyter Notebook.\n",
    "\"\"\""
   ]
  },
  {
   "cell_type": "code",
   "execution_count": null,
   "id": "8efdbcae-5d5c-446f-ad70-f122586c1062",
   "metadata": {},
   "outputs": [],
   "source": [
    "\"\"\"\n",
    "Simple 'Hello World !!' screen shot\n",
    "\n",
    "1.1.png attached in the file \n",
    "\"\"\""
   ]
  },
  {
   "cell_type": "code",
   "execution_count": null,
   "id": "a7d03e9d-1f86-40dd-81f8-8860f511b076",
   "metadata": {},
   "outputs": [],
   "source": [
    "\"\"\"\n",
    "Simple hello from input side of server to client\n",
    "\n",
    "1.2 png attached\n",
    "\"\"\""
   ]
  },
  {
   "cell_type": "code",
   "execution_count": null,
   "id": "903205f4-e725-4199-9484-41f58bedb8a6",
   "metadata": {},
   "outputs": [],
   "source": []
  },
  {
   "cell_type": "code",
   "execution_count": null,
   "id": "32aa69d6-99c7-404b-aa39-f7c6d61ca1a9",
   "metadata": {},
   "outputs": [],
   "source": [
    "\"\"\"\n",
    "Q3.What is App routing in Flask? Why do we use app routes?\n",
    "\"\"\"\""
   ]
  },
  {
   "cell_type": "code",
   "execution_count": null,
   "id": "9e6d0ffb-34ad-4711-9513-d1cc6e69c088",
   "metadata": {},
   "outputs": [],
   "source": [
    "\"\"\"\n",
    "App routing is way do url binding with function, as in other means of programming we need to call,\n",
    "on the function it make it execute but here is flask we use App routing method we bind the function with url,\n",
    "the basic url with which we can call a function is (\"/\") and copy the link add :5000 to it as Flask default port\n",
    "number, in a example with respect to app routing we can even write function in python and execute in java, take care,\n",
    "when declaring custom url use that same url after :5000/your_url."
   ]
  },
  {
   "cell_type": "code",
   "execution_count": null,
   "id": "b8553de3-1c56-4b3a-b4dc-6c43b0005b3a",
   "metadata": {},
   "outputs": [],
   "source": []
  },
  {
   "cell_type": "code",
   "execution_count": null,
   "id": "7b830567-dfac-4816-ae2c-afcf9b45b707",
   "metadata": {},
   "outputs": [],
   "source": [
    "\"\"\"\n",
    "Q4. Create a “/welcome” route to display the welcome message “Welcome to ABC Corporation” and a “/”\n",
    "route to show the following details:\n",
    "Company Name: ABC Corporation\n",
    "Location: India\n",
    "Contact Detail: 999-999-9999\n",
    "\"\"\""
   ]
  },
  {
   "cell_type": "code",
   "execution_count": null,
   "id": "5afbd9f9-58e1-4791-8dfb-ad198a1c2591",
   "metadata": {},
   "outputs": [],
   "source": [
    "\"\"\"\"\n",
    "screen shot 1.3 attached for first message\n",
    "\"\"\""
   ]
  },
  {
   "cell_type": "code",
   "execution_count": null,
   "id": "d4e7fb5f-52ec-4d26-8f93-0b2f052cee6d",
   "metadata": {},
   "outputs": [],
   "source": [
    "\"\"\"\n",
    "screen shot 1.4 attached for second message\n",
    "\n",
    "in this screenshot for priting company details I have used <br> which I learned in web dev for returning the\n",
    "data in seperated lines.\n",
    "\"\"\""
   ]
  },
  {
   "cell_type": "code",
   "execution_count": null,
   "id": "066a1ab7-e98b-4afc-8974-f1852ba0ea58",
   "metadata": {},
   "outputs": [],
   "source": []
  },
  {
   "cell_type": "code",
   "execution_count": null,
   "id": "0f73c968-04ee-434f-9bf0-bfb2b8026804",
   "metadata": {},
   "outputs": [],
   "source": [
    "\"\"\"\n",
    "Q5. What function is used in Flask for URL Building? Write a Python code to demonstrate the working of the\n",
    "url_for() function.\n",
    "\"\"\"\n"
   ]
  },
  {
   "cell_type": "code",
   "execution_count": null,
   "id": "0d63237e-7c7d-47e2-8c06-261aee3330b1",
   "metadata": {},
   "outputs": [],
   "source": [
    "\"\"\"\n",
    "In Flask url_for is used for URL Building, it generates a URL for specific function which help us to \n",
    "avoid hard coding URL's, instead we use function name as a refernce and flask will automatically generate the URL.\n",
    "\"\"\""
   ]
  },
  {
   "cell_type": "code",
   "execution_count": null,
   "id": "35d7fe89-c6a2-4ebf-8a45-335828fd6973",
   "metadata": {},
   "outputs": [],
   "source": [
    "\"\"\"\n",
    "from flask import Flask, url_for\n",
    "\n",
    "app = Flask(__name__)\n",
    "\n",
    "@app.route('/')\n",
    "def index():\n",
    "    return 'Hello, World!'\n",
    "\n",
    "@app.route('/user/<username>')\n",
    "def profile(username):\n",
    "    return 'Hello'.format(username)\n",
    "\n",
    "with app.test_request_context():\n",
    "    print(url_for('index'))  # Output: '/'\n",
    "    print(url_for('profile', username='John Doe'))\n",
    "\"\"\""
   ]
  },
  {
   "cell_type": "code",
   "execution_count": null,
   "id": "eb0fef5f-780a-4bce-8f8d-20bbde09363b",
   "metadata": {},
   "outputs": [],
   "source": []
  }
 ],
 "metadata": {
  "kernelspec": {
   "display_name": "Python 3 (ipykernel)",
   "language": "python",
   "name": "python3"
  },
  "language_info": {
   "codemirror_mode": {
    "name": "ipython",
    "version": 3
   },
   "file_extension": ".py",
   "mimetype": "text/x-python",
   "name": "python",
   "nbconvert_exporter": "python",
   "pygments_lexer": "ipython3",
   "version": "3.10.8"
  }
 },
 "nbformat": 4,
 "nbformat_minor": 5
}
